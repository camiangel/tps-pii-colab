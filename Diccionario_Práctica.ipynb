{
  "nbformat": 4,
  "nbformat_minor": 0,
  "metadata": {
    "colab": {
      "provenance": [],
      "include_colab_link": true
    },
    "kernelspec": {
      "name": "python3",
      "display_name": "Python 3"
    },
    "language_info": {
      "name": "python"
    }
  },
  "cells": [
    {
      "cell_type": "markdown",
      "metadata": {
        "id": "view-in-github",
        "colab_type": "text"
      },
      "source": [
        "<a href=\"https://colab.research.google.com/github/camiangel/tps-pii-colab/blob/main/Diccionario_Pr%C3%A1ctica.ipynb\" target=\"_parent\"><img src=\"https://colab.research.google.com/assets/colab-badge.svg\" alt=\"Open In Colab\"/></a>"
      ]
    },
    {
      "cell_type": "code",
      "execution_count": 10,
      "metadata": {
        "id": "8VOD-zpMJovw"
      },
      "outputs": [],
      "source": [
        "# Listas de alumnos\n",
        "estudiantes_5d = [\n",
        "   (\"Alurralde, Solange Stefania\",\"D\",\"02/04/2007\"),\n",
        "   (\"Alvarado, Ludmila Del Milagro\",\"D\",\"06/09/2006\"),\n",
        "   (\"Angel, Camila Juliana\",\"D\",\"07/03/2007\"),\n",
        "   (\"Arenas, Lucas Gabriel\",\"D\",\"26/06/2007\"),\n",
        "   (\"Caseres, Maria Antonia\",\"D\",\"01/07/2006\"),\n",
        "   (\"Castillo, Paulina Milagros\",\"D\",\"01/06/2007\"),\n",
        "   (\"Correa Segovia, Hugo Mariano\",\"D\",\"04/12/2006\"),\n",
        "   (\"D Elia, Alvaro Tadeo\",\"D\",\"27/08/2006\"),\n",
        "   (\"Flores, Victoria Agustina\",\"D\",\"12/12/2006\"),\n",
        "   (\"Geronimo Soriano, Lizzie Amaya\",\"D\",\"20/01/2007\"),\n",
        "   (\"GUZMAN, ANGÉLICA MORENA\",\"D\",\"11/04/2007\"),\n",
        "   (\"Guzman, Jazmin Esmeralda Belen\",\"D\",\"31/07/2006\"),\n",
        "   (\"Jaime, Anita Maria Belen\",\"D\",\"19/04/2007\"),\n",
        "   (\"Lacour Polo, Nazarena\",\"D\",\"19/12/2005\"),\n",
        "   (\"Lascano Guanca, Marcelo Fabricio\",\"D\",\"17/02/2006\"),\n",
        "   (\"Lezcano, Celia Morena\",\"D\",\"01/07/2005\"),\n",
        "   (\"Martinez, Tomas Andres\",\"D\",\"22/03/2007\"),\n",
        "   (\"PORTELLA VALDIVIA, PEDRO FRANCISCO\",\"D\",\"24/01/2007\"),\n",
        "   (\"Retamal Cisneros, Zacarias Josue\",\"D\",\"24/02/2007\"),\n",
        "   (\"Rosales, Francisco Gabriel\",\"D\",\"14/11/2006\"),\n",
        "   (\"Salem Barba, Mahia\",\"D\",\"14/10/2005\"),\n",
        "   (\"Soto Camara, Agustin Ignacio\",\"D\",\"07/11/2005\"),\n",
        "   (\"Villalba, Irina\",\"D\",\"09/09/2006\"),\n",
        "   (\"Voltolini, Emanuel Tobias\",\"D\",\"17/09/2006\"),\n",
        "   (\"Zalazar, Santino Stefano\",\"D\",\"30/09/2006\")\n",
        "]\n",
        "\n",
        "estudiantes_5c=[\n",
        "    (\"ABUD LASPIUR, LOURDES MARIEL\",\"C\",\"05/12/2006\"),\n",
        "    (\"Amador, Luana Micaela\",\"C\",\"09/12/2006\"),\n",
        "    (\"Anaquin, Leonardo Ezequiel\",\"C\",\"06/09/2005\"),\n",
        "    (\"Araoz Sanchez, Lautaro Nahuel\",\"C\",\"28/12/2005\"),\n",
        "    (\"Argañaraz, Agostina Abril\",\"C\",\"11/10/2006\"),\n",
        "    (\"Barrera, Matias Ezequiel\",\"C\",\"27/02/2007\"),\n",
        "    (\"Barrozo Vedia, Joaquin Nicolas\",\"C\",\"15/04/2006\"),\n",
        "    (\"Bettinelli, Valentino\",\"C\",\"12/07/2006\"),\n",
        "    (\"Bracamonte Martinez, Salvador\",\"C\",\"02/11/2005\"),\n",
        "    (\"Colque Rivero, Ariana Zoe Del Valle\",\"C\",\"27/12/2006\"),\n",
        "    (\"Diaz, Dulce Maitena\",\"C\",\"11/12/2006\"),\n",
        "    (\"FIGUEROA, SANTINO JOSUE\",\"C\",\"12/05/2007\"),\n",
        "    (\"Flores Cardozo, Agustina Tiara\",\"C\",\"18/03/2006\"),\n",
        "    (\"Gallo, Octavio Ismael\",\"C\",\"04/08/2006\"),\n",
        "    (\"Galvan, Lourdes Yamila\",\"C\",\"19/08/2005\"),\n",
        "    (\"Giangreco, Vitto Tomasso\",\"C\",\"21/03/2007\"),\n",
        "    (\"Grancara, Martina Luna\",\"C\",\"15/12/2006\"),\n",
        "    (\"Guanca, Sara Elizabeth\",\"C\",\"17/01/2007\"),\n",
        "    (\"Lopez, Victoria Constanza\",\"C\",\"12/11/2007\"),\n",
        "    (\"Mamani Garrido, Rosario Agostina\",\"C\",\"24/10/2006\"),\n",
        "    (\"Marinaro, Martin Ezequiel\",\"C\",\"03/11/2006\"),\n",
        "    (\"Merluzzi Dagum, Ignacio\",\"C\",\"22/12/2005\"),\n",
        "    (\"Messina, Martina\",\"C\",\"13/07/2005\"),\n",
        "    (\"RASUK, KARIM\", \"C\",\"13/07/2007\"),\n",
        "    (\"Rios, Lucia Magali\",\"C\",\"22/09/2006\"),\n",
        "    (\"Sanchez Flores, Matías Agustín\",\"C\",\"15/02/2007\"),\n",
        "    (\"Scarano, Renato Marcelo\",\"C\",\"06/12/2006\"),\n",
        "    (\"Sierra, Lucas Mauricio\",\"C\",\"03/04/2005\"),\n",
        "    (\"Tapia, Martin Gabriel\",\"C\",\"30/05/2006\"),\n",
        "    (\"Vilte, Mia Antonella Alondra\",\"C\",\"10/09/2005\"),\n",
        "    (\"Virgillito, Katya Milena\",\"C\",\"19/06/2007\")\n",
        "]"
      ]
    },
    {
      "cell_type": "markdown",
      "source": [
        "## Dada la lista estudiantes:\n",
        "> - Hacer una celda para resolver cada punto.\n",
        "- El TP resuelto será revisado en tu repositorio, no es necesario que lo envíes, pero sí que lo pushees correctamente.\n",
        "- En la nota inicial se contempla:\n",
        "  - La incorporación de este documento a tu propio respositorio.\n",
        "  - El pusheo de los cambios realizados.\n",
        "  - La resolución de los ejercicios propuestos.\n"
      ],
      "metadata": {
        "id": "rd6Ug6v3J4uN"
      }
    },
    {
      "cell_type": "markdown",
      "source": [
        "1. Reemplaza todos los valores del nombre por los que obtengas del método title(). De esta manera las listas quedaran con los datos más homogéneos."
      ],
      "metadata": {
        "id": "wRLng-uURyJ3"
      }
    },
    {
      "cell_type": "code",
      "source": [
        "estudiantes = []\n",
        "estudiantes.extend(estudiantes_5c)\n",
        "estudiantes.extend(estudiantes_5d)\n",
        "for i in range(len(estudiantes)):\n",
        "  nombre, divisor, fecha_nac = estudiantes[i]\n",
        "  nombre = nombre.title()\n",
        "  estudiantes[i] = nombre, divisor, fecha_nac\n",
        "for estudiante in estudiantes:\n",
        "  print(estudiante)"
      ],
      "metadata": {
        "id": "5lFqJoTaSIWi",
        "outputId": "ad5c9f09-cce6-49e9-c322-75b0fb1adecf",
        "colab": {
          "base_uri": "https://localhost:8080/"
        }
      },
      "execution_count": 11,
      "outputs": [
        {
          "output_type": "stream",
          "name": "stdout",
          "text": [
            "('Abud Laspiur, Lourdes Mariel', 'C', '05/12/2006')\n",
            "('Amador, Luana Micaela', 'C', '09/12/2006')\n",
            "('Anaquin, Leonardo Ezequiel', 'C', '06/09/2005')\n",
            "('Araoz Sanchez, Lautaro Nahuel', 'C', '28/12/2005')\n",
            "('Argañaraz, Agostina Abril', 'C', '11/10/2006')\n",
            "('Barrera, Matias Ezequiel', 'C', '27/02/2007')\n",
            "('Barrozo Vedia, Joaquin Nicolas', 'C', '15/04/2006')\n",
            "('Bettinelli, Valentino', 'C', '12/07/2006')\n",
            "('Bracamonte Martinez, Salvador', 'C', '02/11/2005')\n",
            "('Colque Rivero, Ariana Zoe Del Valle', 'C', '27/12/2006')\n",
            "('Diaz, Dulce Maitena', 'C', '11/12/2006')\n",
            "('Figueroa, Santino Josue', 'C', '12/05/2007')\n",
            "('Flores Cardozo, Agustina Tiara', 'C', '18/03/2006')\n",
            "('Gallo, Octavio Ismael', 'C', '04/08/2006')\n",
            "('Galvan, Lourdes Yamila', 'C', '19/08/2005')\n",
            "('Giangreco, Vitto Tomasso', 'C', '21/03/2007')\n",
            "('Grancara, Martina Luna', 'C', '15/12/2006')\n",
            "('Guanca, Sara Elizabeth', 'C', '17/01/2007')\n",
            "('Lopez, Victoria Constanza', 'C', '12/11/2007')\n",
            "('Mamani Garrido, Rosario Agostina', 'C', '24/10/2006')\n",
            "('Marinaro, Martin Ezequiel', 'C', '03/11/2006')\n",
            "('Merluzzi Dagum, Ignacio', 'C', '22/12/2005')\n",
            "('Messina, Martina', 'C', '13/07/2005')\n",
            "('Rasuk, Karim', 'C', '13/07/2007')\n",
            "('Rios, Lucia Magali', 'C', '22/09/2006')\n",
            "('Sanchez Flores, Matías Agustín', 'C', '15/02/2007')\n",
            "('Scarano, Renato Marcelo', 'C', '06/12/2006')\n",
            "('Sierra, Lucas Mauricio', 'C', '03/04/2005')\n",
            "('Tapia, Martin Gabriel', 'C', '30/05/2006')\n",
            "('Vilte, Mia Antonella Alondra', 'C', '10/09/2005')\n",
            "('Virgillito, Katya Milena', 'C', '19/06/2007')\n",
            "('Alurralde, Solange Stefania', 'D', '02/04/2007')\n",
            "('Alvarado, Ludmila Del Milagro', 'D', '06/09/2006')\n",
            "('Angel, Camila Juliana', 'D', '07/03/2007')\n",
            "('Arenas, Lucas Gabriel', 'D', '26/06/2007')\n",
            "('Caseres, Maria Antonia', 'D', '01/07/2006')\n",
            "('Castillo, Paulina Milagros', 'D', '01/06/2007')\n",
            "('Correa Segovia, Hugo Mariano', 'D', '04/12/2006')\n",
            "('D Elia, Alvaro Tadeo', 'D', '27/08/2006')\n",
            "('Flores, Victoria Agustina', 'D', '12/12/2006')\n",
            "('Geronimo Soriano, Lizzie Amaya', 'D', '20/01/2007')\n",
            "('Guzman, Angélica Morena', 'D', '11/04/2007')\n",
            "('Guzman, Jazmin Esmeralda Belen', 'D', '31/07/2006')\n",
            "('Jaime, Anita Maria Belen', 'D', '19/04/2007')\n",
            "('Lacour Polo, Nazarena', 'D', '19/12/2005')\n",
            "('Lascano Guanca, Marcelo Fabricio', 'D', '17/02/2006')\n",
            "('Lezcano, Celia Morena', 'D', '01/07/2005')\n",
            "('Martinez, Tomas Andres', 'D', '22/03/2007')\n",
            "('Portella Valdivia, Pedro Francisco', 'D', '24/01/2007')\n",
            "('Retamal Cisneros, Zacarias Josue', 'D', '24/02/2007')\n",
            "('Rosales, Francisco Gabriel', 'D', '14/11/2006')\n",
            "('Salem Barba, Mahia', 'D', '14/10/2005')\n",
            "('Soto Camara, Agustin Ignacio', 'D', '07/11/2005')\n",
            "('Villalba, Irina', 'D', '09/09/2006')\n",
            "('Voltolini, Emanuel Tobias', 'D', '17/09/2006')\n",
            "('Zalazar, Santino Stefano', 'D', '30/09/2006')\n"
          ]
        }
      ]
    },
    {
      "cell_type": "markdown",
      "source": [
        "2. Genera una lista de diccionarios con los datos de las listas, donde las claves de los mismos serán:\n",
        "- \"apellido\"\n",
        "- \"nombre\"\n",
        "- \"curso\"\n",
        "- \"division\"\n",
        "- \"feha_de_nacimiento\"\n",
        "\n",
        "Muestra la información generada."
      ],
      "metadata": {
        "id": "dYEGkYZyLy9I"
      }
    },
    {
      "cell_type": "code",
      "source": [
        "lista_diccionarios = []\n",
        "for estudiante in estudiantes:\n",
        "  un_estudiante = {}\n",
        "  nombre_y_apellido, división, facha_nac = estudiante\n",
        "  apellido,nombre = nombre_y_apellido.split(\",\")\n",
        "  nombre = nombre.lstrip()\n",
        "  un_estudiante[\"apellido\"] = apellido\n",
        "  un_estudiante[\"nombre\"] = nombre\n",
        "  un_estudiante[\"curso\"] = 5\n",
        "  un_estudiante[\"división\"] = división\n",
        "  un_estudiante[\"fecha_de_nacimiento\"] = fecha_nac\n",
        "  lista_diccionarios.append(un_estudiante)\n",
        "\n",
        "for estudiante in lista_diccionarios:\n",
        "  print(estudiante)"
      ],
      "metadata": {
        "id": "vVK6gij5BQaj",
        "outputId": "54d004ef-3696-4a61-9605-a097604fbd8d",
        "colab": {
          "base_uri": "https://localhost:8080/"
        }
      },
      "execution_count": 12,
      "outputs": [
        {
          "output_type": "stream",
          "name": "stdout",
          "text": [
            "{'apellido': 'Abud Laspiur', 'nombre': 'Lourdes Mariel', 'curso': 5, 'división': 'C', 'fecha_de_nacimiento': '30/09/2006'}\n",
            "{'apellido': 'Amador', 'nombre': 'Luana Micaela', 'curso': 5, 'división': 'C', 'fecha_de_nacimiento': '30/09/2006'}\n",
            "{'apellido': 'Anaquin', 'nombre': 'Leonardo Ezequiel', 'curso': 5, 'división': 'C', 'fecha_de_nacimiento': '30/09/2006'}\n",
            "{'apellido': 'Araoz Sanchez', 'nombre': 'Lautaro Nahuel', 'curso': 5, 'división': 'C', 'fecha_de_nacimiento': '30/09/2006'}\n",
            "{'apellido': 'Argañaraz', 'nombre': 'Agostina Abril', 'curso': 5, 'división': 'C', 'fecha_de_nacimiento': '30/09/2006'}\n",
            "{'apellido': 'Barrera', 'nombre': 'Matias Ezequiel', 'curso': 5, 'división': 'C', 'fecha_de_nacimiento': '30/09/2006'}\n",
            "{'apellido': 'Barrozo Vedia', 'nombre': 'Joaquin Nicolas', 'curso': 5, 'división': 'C', 'fecha_de_nacimiento': '30/09/2006'}\n",
            "{'apellido': 'Bettinelli', 'nombre': 'Valentino', 'curso': 5, 'división': 'C', 'fecha_de_nacimiento': '30/09/2006'}\n",
            "{'apellido': 'Bracamonte Martinez', 'nombre': 'Salvador', 'curso': 5, 'división': 'C', 'fecha_de_nacimiento': '30/09/2006'}\n",
            "{'apellido': 'Colque Rivero', 'nombre': 'Ariana Zoe Del Valle', 'curso': 5, 'división': 'C', 'fecha_de_nacimiento': '30/09/2006'}\n",
            "{'apellido': 'Diaz', 'nombre': 'Dulce Maitena', 'curso': 5, 'división': 'C', 'fecha_de_nacimiento': '30/09/2006'}\n",
            "{'apellido': 'Figueroa', 'nombre': 'Santino Josue', 'curso': 5, 'división': 'C', 'fecha_de_nacimiento': '30/09/2006'}\n",
            "{'apellido': 'Flores Cardozo', 'nombre': 'Agustina Tiara', 'curso': 5, 'división': 'C', 'fecha_de_nacimiento': '30/09/2006'}\n",
            "{'apellido': 'Gallo', 'nombre': 'Octavio Ismael', 'curso': 5, 'división': 'C', 'fecha_de_nacimiento': '30/09/2006'}\n",
            "{'apellido': 'Galvan', 'nombre': 'Lourdes Yamila', 'curso': 5, 'división': 'C', 'fecha_de_nacimiento': '30/09/2006'}\n",
            "{'apellido': 'Giangreco', 'nombre': 'Vitto Tomasso', 'curso': 5, 'división': 'C', 'fecha_de_nacimiento': '30/09/2006'}\n",
            "{'apellido': 'Grancara', 'nombre': 'Martina Luna', 'curso': 5, 'división': 'C', 'fecha_de_nacimiento': '30/09/2006'}\n",
            "{'apellido': 'Guanca', 'nombre': 'Sara Elizabeth', 'curso': 5, 'división': 'C', 'fecha_de_nacimiento': '30/09/2006'}\n",
            "{'apellido': 'Lopez', 'nombre': 'Victoria Constanza', 'curso': 5, 'división': 'C', 'fecha_de_nacimiento': '30/09/2006'}\n",
            "{'apellido': 'Mamani Garrido', 'nombre': 'Rosario Agostina', 'curso': 5, 'división': 'C', 'fecha_de_nacimiento': '30/09/2006'}\n",
            "{'apellido': 'Marinaro', 'nombre': 'Martin Ezequiel', 'curso': 5, 'división': 'C', 'fecha_de_nacimiento': '30/09/2006'}\n",
            "{'apellido': 'Merluzzi Dagum', 'nombre': 'Ignacio', 'curso': 5, 'división': 'C', 'fecha_de_nacimiento': '30/09/2006'}\n",
            "{'apellido': 'Messina', 'nombre': 'Martina', 'curso': 5, 'división': 'C', 'fecha_de_nacimiento': '30/09/2006'}\n",
            "{'apellido': 'Rasuk', 'nombre': 'Karim', 'curso': 5, 'división': 'C', 'fecha_de_nacimiento': '30/09/2006'}\n",
            "{'apellido': 'Rios', 'nombre': 'Lucia Magali', 'curso': 5, 'división': 'C', 'fecha_de_nacimiento': '30/09/2006'}\n",
            "{'apellido': 'Sanchez Flores', 'nombre': 'Matías Agustín', 'curso': 5, 'división': 'C', 'fecha_de_nacimiento': '30/09/2006'}\n",
            "{'apellido': 'Scarano', 'nombre': 'Renato Marcelo', 'curso': 5, 'división': 'C', 'fecha_de_nacimiento': '30/09/2006'}\n",
            "{'apellido': 'Sierra', 'nombre': 'Lucas Mauricio', 'curso': 5, 'división': 'C', 'fecha_de_nacimiento': '30/09/2006'}\n",
            "{'apellido': 'Tapia', 'nombre': 'Martin Gabriel', 'curso': 5, 'división': 'C', 'fecha_de_nacimiento': '30/09/2006'}\n",
            "{'apellido': 'Vilte', 'nombre': 'Mia Antonella Alondra', 'curso': 5, 'división': 'C', 'fecha_de_nacimiento': '30/09/2006'}\n",
            "{'apellido': 'Virgillito', 'nombre': 'Katya Milena', 'curso': 5, 'división': 'C', 'fecha_de_nacimiento': '30/09/2006'}\n",
            "{'apellido': 'Alurralde', 'nombre': 'Solange Stefania', 'curso': 5, 'división': 'D', 'fecha_de_nacimiento': '30/09/2006'}\n",
            "{'apellido': 'Alvarado', 'nombre': 'Ludmila Del Milagro', 'curso': 5, 'división': 'D', 'fecha_de_nacimiento': '30/09/2006'}\n",
            "{'apellido': 'Angel', 'nombre': 'Camila Juliana', 'curso': 5, 'división': 'D', 'fecha_de_nacimiento': '30/09/2006'}\n",
            "{'apellido': 'Arenas', 'nombre': 'Lucas Gabriel', 'curso': 5, 'división': 'D', 'fecha_de_nacimiento': '30/09/2006'}\n",
            "{'apellido': 'Caseres', 'nombre': 'Maria Antonia', 'curso': 5, 'división': 'D', 'fecha_de_nacimiento': '30/09/2006'}\n",
            "{'apellido': 'Castillo', 'nombre': 'Paulina Milagros', 'curso': 5, 'división': 'D', 'fecha_de_nacimiento': '30/09/2006'}\n",
            "{'apellido': 'Correa Segovia', 'nombre': 'Hugo Mariano', 'curso': 5, 'división': 'D', 'fecha_de_nacimiento': '30/09/2006'}\n",
            "{'apellido': 'D Elia', 'nombre': 'Alvaro Tadeo', 'curso': 5, 'división': 'D', 'fecha_de_nacimiento': '30/09/2006'}\n",
            "{'apellido': 'Flores', 'nombre': 'Victoria Agustina', 'curso': 5, 'división': 'D', 'fecha_de_nacimiento': '30/09/2006'}\n",
            "{'apellido': 'Geronimo Soriano', 'nombre': 'Lizzie Amaya', 'curso': 5, 'división': 'D', 'fecha_de_nacimiento': '30/09/2006'}\n",
            "{'apellido': 'Guzman', 'nombre': 'Angélica Morena', 'curso': 5, 'división': 'D', 'fecha_de_nacimiento': '30/09/2006'}\n",
            "{'apellido': 'Guzman', 'nombre': 'Jazmin Esmeralda Belen', 'curso': 5, 'división': 'D', 'fecha_de_nacimiento': '30/09/2006'}\n",
            "{'apellido': 'Jaime', 'nombre': 'Anita Maria Belen', 'curso': 5, 'división': 'D', 'fecha_de_nacimiento': '30/09/2006'}\n",
            "{'apellido': 'Lacour Polo', 'nombre': 'Nazarena', 'curso': 5, 'división': 'D', 'fecha_de_nacimiento': '30/09/2006'}\n",
            "{'apellido': 'Lascano Guanca', 'nombre': 'Marcelo Fabricio', 'curso': 5, 'división': 'D', 'fecha_de_nacimiento': '30/09/2006'}\n",
            "{'apellido': 'Lezcano', 'nombre': 'Celia Morena', 'curso': 5, 'división': 'D', 'fecha_de_nacimiento': '30/09/2006'}\n",
            "{'apellido': 'Martinez', 'nombre': 'Tomas Andres', 'curso': 5, 'división': 'D', 'fecha_de_nacimiento': '30/09/2006'}\n",
            "{'apellido': 'Portella Valdivia', 'nombre': 'Pedro Francisco', 'curso': 5, 'división': 'D', 'fecha_de_nacimiento': '30/09/2006'}\n",
            "{'apellido': 'Retamal Cisneros', 'nombre': 'Zacarias Josue', 'curso': 5, 'división': 'D', 'fecha_de_nacimiento': '30/09/2006'}\n",
            "{'apellido': 'Rosales', 'nombre': 'Francisco Gabriel', 'curso': 5, 'división': 'D', 'fecha_de_nacimiento': '30/09/2006'}\n",
            "{'apellido': 'Salem Barba', 'nombre': 'Mahia', 'curso': 5, 'división': 'D', 'fecha_de_nacimiento': '30/09/2006'}\n",
            "{'apellido': 'Soto Camara', 'nombre': 'Agustin Ignacio', 'curso': 5, 'división': 'D', 'fecha_de_nacimiento': '30/09/2006'}\n",
            "{'apellido': 'Villalba', 'nombre': 'Irina', 'curso': 5, 'división': 'D', 'fecha_de_nacimiento': '30/09/2006'}\n",
            "{'apellido': 'Voltolini', 'nombre': 'Emanuel Tobias', 'curso': 5, 'división': 'D', 'fecha_de_nacimiento': '30/09/2006'}\n",
            "{'apellido': 'Zalazar', 'nombre': 'Santino Stefano', 'curso': 5, 'división': 'D', 'fecha_de_nacimiento': '30/09/2006'}\n"
          ]
        }
      ]
    },
    {
      "cell_type": "markdown",
      "source": [
        "3. Genera un diccionario en python, en donde la clave sea cada nombre que aparece en las listas y el valor será la cantidad de veces que se encuentra el mismo.\n",
        "Para este punto es posible fusionar ambas listas en una sola, recordá que hay un método que realiza esta acción.\n",
        "\n",
        "Mostrá la informacion generada"
      ],
      "metadata": {
        "id": "UW2dlBsGMAte"
      }
    },
    {
      "cell_type": "code",
      "source": [
        "nombres={}\n",
        "for estudiante in estudiantes:\n",
        "   nombre, division, fecha_nac=estudiante\n",
        "   lista_nombres=nombre.replace(\",\",\"\").split()\n",
        "   for un_nombre in lista_nombres:\n",
        "     if un_nombre in nombres.keys():\n",
        "       nombres[un_nombre] +=1\n",
        "     else:\n",
        "       nombres[un_nombre]=1\n",
        "for   nombre,veces in nombres.items():\n",
        "  print(f\"el nombre{nombre} apareció {veces} veces\")"
      ],
      "metadata": {
        "id": "EawAy4SANtkl",
        "outputId": "776c180a-e36d-4f4c-d42a-157cf3803938",
        "colab": {
          "base_uri": "https://localhost:8080/"
        }
      },
      "execution_count": 14,
      "outputs": [
        {
          "output_type": "stream",
          "name": "stdout",
          "text": [
            "el nombreAbud apareció 1 veces\n",
            "el nombreLaspiur apareció 1 veces\n",
            "el nombreLourdes apareció 2 veces\n",
            "el nombreMariel apareció 1 veces\n",
            "el nombreAmador apareció 1 veces\n",
            "el nombreLuana apareció 1 veces\n",
            "el nombreMicaela apareció 1 veces\n",
            "el nombreAnaquin apareció 1 veces\n",
            "el nombreLeonardo apareció 1 veces\n",
            "el nombreEzequiel apareció 3 veces\n",
            "el nombreAraoz apareció 1 veces\n",
            "el nombreSanchez apareció 2 veces\n",
            "el nombreLautaro apareció 1 veces\n",
            "el nombreNahuel apareció 1 veces\n",
            "el nombreArgañaraz apareció 1 veces\n",
            "el nombreAgostina apareció 2 veces\n",
            "el nombreAbril apareció 1 veces\n",
            "el nombreBarrera apareció 1 veces\n",
            "el nombreMatias apareció 1 veces\n",
            "el nombreBarrozo apareció 1 veces\n",
            "el nombreVedia apareció 1 veces\n",
            "el nombreJoaquin apareció 1 veces\n",
            "el nombreNicolas apareció 1 veces\n",
            "el nombreBettinelli apareció 1 veces\n",
            "el nombreValentino apareció 1 veces\n",
            "el nombreBracamonte apareció 1 veces\n",
            "el nombreMartinez apareció 2 veces\n",
            "el nombreSalvador apareció 1 veces\n",
            "el nombreColque apareció 1 veces\n",
            "el nombreRivero apareció 1 veces\n",
            "el nombreAriana apareció 1 veces\n",
            "el nombreZoe apareció 1 veces\n",
            "el nombreDel apareció 2 veces\n",
            "el nombreValle apareció 1 veces\n",
            "el nombreDiaz apareció 1 veces\n",
            "el nombreDulce apareció 1 veces\n",
            "el nombreMaitena apareció 1 veces\n",
            "el nombreFigueroa apareció 1 veces\n",
            "el nombreSantino apareció 2 veces\n",
            "el nombreJosue apareció 2 veces\n",
            "el nombreFlores apareció 3 veces\n",
            "el nombreCardozo apareció 1 veces\n",
            "el nombreAgustina apareció 2 veces\n",
            "el nombreTiara apareció 1 veces\n",
            "el nombreGallo apareció 1 veces\n",
            "el nombreOctavio apareció 1 veces\n",
            "el nombreIsmael apareció 1 veces\n",
            "el nombreGalvan apareció 1 veces\n",
            "el nombreYamila apareció 1 veces\n",
            "el nombreGiangreco apareció 1 veces\n",
            "el nombreVitto apareció 1 veces\n",
            "el nombreTomasso apareció 1 veces\n",
            "el nombreGrancara apareció 1 veces\n",
            "el nombreMartina apareció 2 veces\n",
            "el nombreLuna apareció 1 veces\n",
            "el nombreGuanca apareció 2 veces\n",
            "el nombreSara apareció 1 veces\n",
            "el nombreElizabeth apareció 1 veces\n",
            "el nombreLopez apareció 1 veces\n",
            "el nombreVictoria apareció 2 veces\n",
            "el nombreConstanza apareció 1 veces\n",
            "el nombreMamani apareció 1 veces\n",
            "el nombreGarrido apareció 1 veces\n",
            "el nombreRosario apareció 1 veces\n",
            "el nombreMarinaro apareció 1 veces\n",
            "el nombreMartin apareció 2 veces\n",
            "el nombreMerluzzi apareció 1 veces\n",
            "el nombreDagum apareció 1 veces\n",
            "el nombreIgnacio apareció 2 veces\n",
            "el nombreMessina apareció 1 veces\n",
            "el nombreRasuk apareció 1 veces\n",
            "el nombreKarim apareció 1 veces\n",
            "el nombreRios apareció 1 veces\n",
            "el nombreLucia apareció 1 veces\n",
            "el nombreMagali apareció 1 veces\n",
            "el nombreMatías apareció 1 veces\n",
            "el nombreAgustín apareció 1 veces\n",
            "el nombreScarano apareció 1 veces\n",
            "el nombreRenato apareció 1 veces\n",
            "el nombreMarcelo apareció 2 veces\n",
            "el nombreSierra apareció 1 veces\n",
            "el nombreLucas apareció 2 veces\n",
            "el nombreMauricio apareció 1 veces\n",
            "el nombreTapia apareció 1 veces\n",
            "el nombreGabriel apareció 3 veces\n",
            "el nombreVilte apareció 1 veces\n",
            "el nombreMia apareció 1 veces\n",
            "el nombreAntonella apareció 1 veces\n",
            "el nombreAlondra apareció 1 veces\n",
            "el nombreVirgillito apareció 1 veces\n",
            "el nombreKatya apareció 1 veces\n",
            "el nombreMilena apareció 1 veces\n",
            "el nombreAlurralde apareció 1 veces\n",
            "el nombreSolange apareció 1 veces\n",
            "el nombreStefania apareció 1 veces\n",
            "el nombreAlvarado apareció 1 veces\n",
            "el nombreLudmila apareció 1 veces\n",
            "el nombreMilagro apareció 1 veces\n",
            "el nombreAngel apareció 1 veces\n",
            "el nombreCamila apareció 1 veces\n",
            "el nombreJuliana apareció 1 veces\n",
            "el nombreArenas apareció 1 veces\n",
            "el nombreCaseres apareció 1 veces\n",
            "el nombreMaria apareció 2 veces\n",
            "el nombreAntonia apareció 1 veces\n",
            "el nombreCastillo apareció 1 veces\n",
            "el nombrePaulina apareció 1 veces\n",
            "el nombreMilagros apareció 1 veces\n",
            "el nombreCorrea apareció 1 veces\n",
            "el nombreSegovia apareció 1 veces\n",
            "el nombreHugo apareció 1 veces\n",
            "el nombreMariano apareció 1 veces\n",
            "el nombreD apareció 1 veces\n",
            "el nombreElia apareció 1 veces\n",
            "el nombreAlvaro apareció 1 veces\n",
            "el nombreTadeo apareció 1 veces\n",
            "el nombreGeronimo apareció 1 veces\n",
            "el nombreSoriano apareció 1 veces\n",
            "el nombreLizzie apareció 1 veces\n",
            "el nombreAmaya apareció 1 veces\n",
            "el nombreGuzman apareció 2 veces\n",
            "el nombreAngélica apareció 1 veces\n",
            "el nombreMorena apareció 2 veces\n",
            "el nombreJazmin apareció 1 veces\n",
            "el nombreEsmeralda apareció 1 veces\n",
            "el nombreBelen apareció 2 veces\n",
            "el nombreJaime apareció 1 veces\n",
            "el nombreAnita apareció 1 veces\n",
            "el nombreLacour apareció 1 veces\n",
            "el nombrePolo apareció 1 veces\n",
            "el nombreNazarena apareció 1 veces\n",
            "el nombreLascano apareció 1 veces\n",
            "el nombreFabricio apareció 1 veces\n",
            "el nombreLezcano apareció 1 veces\n",
            "el nombreCelia apareció 1 veces\n",
            "el nombreTomas apareció 1 veces\n",
            "el nombreAndres apareció 1 veces\n",
            "el nombrePortella apareció 1 veces\n",
            "el nombreValdivia apareció 1 veces\n",
            "el nombrePedro apareció 1 veces\n",
            "el nombreFrancisco apareció 2 veces\n",
            "el nombreRetamal apareció 1 veces\n",
            "el nombreCisneros apareció 1 veces\n",
            "el nombreZacarias apareció 1 veces\n",
            "el nombreRosales apareció 1 veces\n",
            "el nombreSalem apareció 1 veces\n",
            "el nombreBarba apareció 1 veces\n",
            "el nombreMahia apareció 1 veces\n",
            "el nombreSoto apareció 1 veces\n",
            "el nombreCamara apareció 1 veces\n",
            "el nombreAgustin apareció 1 veces\n",
            "el nombreVillalba apareció 1 veces\n",
            "el nombreIrina apareció 1 veces\n",
            "el nombreVoltolini apareció 1 veces\n",
            "el nombreEmanuel apareció 1 veces\n",
            "el nombreTobias apareció 1 veces\n",
            "el nombreZalazar apareció 1 veces\n",
            "el nombreStefano apareció 1 veces\n"
          ]
        }
      ]
    },
    {
      "cell_type": "markdown",
      "source": [
        "4. Genera un diccionario en python, en donde la clave sea cada apellido que aparece en las listas y el valor será la cantidad de veces que se encuentra el mismo.\n",
        "Para este punto es posible fusionar ambas listas en una sola, recordá que hay un método que realiza esta acción."
      ],
      "metadata": {
        "id": "kZeEHUYVNwGV"
      }
    },
    {
      "cell_type": "code",
      "source": [
        "pass"
      ],
      "metadata": {
        "id": "q05GnxXgORzt"
      },
      "execution_count": null,
      "outputs": []
    },
    {
      "cell_type": "markdown",
      "source": [
        "5. Solicita al usuario que ingrese un apellido y muestra  a todos los estudiantes con ese apellido."
      ],
      "metadata": {
        "id": "ywYmA2JQNp3T"
      }
    },
    {
      "cell_type": "code",
      "source": [
        "apellido = input(\"Ingrese un apellido: \").title()\n",
        "for estudiante in lista_diccionarios:\n",
        "  if apellido in estudiante[\"apellido\"]:\n",
        "    print(estudiante)"
      ],
      "metadata": {
        "id": "Cnp334ZrOCjK",
        "colab": {
          "base_uri": "https://localhost:8080/"
        },
        "outputId": "b92cf5fc-ed79-4121-f05e-63fff87a390a"
      },
      "execution_count": 15,
      "outputs": [
        {
          "output_type": "stream",
          "name": "stdout",
          "text": [
            "Ingrese un apellido: angel\n",
            "{'apellido': 'Angel', 'nombre': 'Camila Juliana', 'curso': 5, 'división': 'D', 'fecha_de_nacimiento': '30/09/2006'}\n"
          ]
        }
      ]
    },
    {
      "cell_type": "markdown",
      "source": [
        "6. Solicita al usuario que ingrese un nombre y muestra a todos los estudiantes con el nombre ingresado."
      ],
      "metadata": {
        "id": "iAXts6saODoU"
      }
    },
    {
      "cell_type": "code",
      "source": [
        "pass"
      ],
      "metadata": {
        "id": "FMRsUlvtOJS_"
      },
      "execution_count": null,
      "outputs": []
    },
    {
      "cell_type": "markdown",
      "source": [
        "7. Busca el diccionario con tu información dentro de la lista y cámbiate de división, de tal manera que si estas en 5C, con el cambio quedes en 5D y viceversa."
      ],
      "metadata": {
        "id": "T4PFiwwdOK27"
      }
    },
    {
      "cell_type": "code",
      "source": [
        "pass"
      ],
      "metadata": {
        "id": "vjQ2X9x3OmFr"
      },
      "execution_count": null,
      "outputs": []
    },
    {
      "cell_type": "markdown",
      "source": [
        "8. Ordenar la lista alfabeticamente por nombre. Ascendente y descendentemente. Para elegir como ordenarla, mostrar un menú donde el usuario podrá decidir como quiere ver la salida."
      ],
      "metadata": {
        "id": "xfy8SFlZRVGf"
      }
    },
    {
      "cell_type": "code",
      "source": [],
      "metadata": {
        "id": "E4Onk1FNRUa2"
      },
      "execution_count": null,
      "outputs": []
    },
    {
      "cell_type": "markdown",
      "source": [
        "9. Ordenar la lista alfabeticamente por apellido. Ascendente y descendentemente. Para elegir como ordenarla, mostrar un menú donde el usuario podrá decidir como quiere ver la salida."
      ],
      "metadata": {
        "id": "lW18NgPjRcGP"
      }
    },
    {
      "cell_type": "code",
      "source": [],
      "metadata": {
        "id": "jTtWBnalRcoC"
      },
      "execution_count": null,
      "outputs": []
    },
    {
      "cell_type": "markdown",
      "source": [
        "10. Ordena la lista por fecha de nacimiento, de manera ascendente y descendente."
      ],
      "metadata": {
        "id": "E24lH7x5Xbur"
      }
    },
    {
      "cell_type": "code",
      "source": [],
      "metadata": {
        "id": "9SeI3GBGXims"
      },
      "execution_count": null,
      "outputs": []
    },
    {
      "cell_type": "markdown",
      "source": [
        "11. Generar una estuctura de diccionario anidado en donde la clave sea el nombre del estudiante y el valor sea un diccionario con los datos del mismo, de la siguiente manera:\n",
        "\n",
        "\n",
        "\n",
        "\n",
        "```python\n",
        "estudiantes = {\n",
        "    \"Juan Perez\": {\n",
        "        \"año\": 2024,\n",
        "        \"división\": \"5D\",\n",
        "        \"fecha de nacimiento\": \"15/03/2006\"\n",
        "    },\n",
        "    \"Maria Gomez\": {\n",
        "        \"año\": 2024,\n",
        "        \"división\": \"5D\",\n",
        "        \"fecha de nacimiento\": \"22/07/2006\"\n",
        "    },\n",
        "    \"Carlos Lopez\": {\n",
        "        \"año\": 2024,\n",
        "        \"división\": \"5D\",\n",
        "        \"fecha de nacimiento\": \"05/10/2006\"\n",
        "    }\n",
        "}\n",
        "```\n",
        "\n",
        "\n",
        "\n",
        "\n"
      ],
      "metadata": {
        "id": "vOY6K_ydRc3Q"
      }
    },
    {
      "cell_type": "code",
      "source": [],
      "metadata": {
        "id": "9JDrd3WqRdTi"
      },
      "execution_count": null,
      "outputs": []
    }
  ]
}